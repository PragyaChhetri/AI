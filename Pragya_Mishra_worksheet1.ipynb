{
  "nbformat": 4,
  "nbformat_minor": 0,
  "metadata": {
    "colab": {
      "provenance": []
    },
    "kernelspec": {
      "name": "python3",
      "display_name": "Python 3"
    },
    "language_info": {
      "name": "python"
    }
  },
  "cells": [
    {
      "cell_type": "code",
      "execution_count": null,
      "metadata": {
        "id": "atdeuq6GEnrU",
        "colab": {
          "base_uri": "https://localhost:8080/"
        },
        "outputId": "b425ee4b-d912-4848-9324-af9e7cf6a698"
      },
      "outputs": [
        {
          "output_type": "stream",
          "name": "stdout",
          "text": [
            "Array: \n",
            "5 \n",
            "Dimension: 0\n",
            "Data Type: int64\n",
            "\n",
            "Array: \n",
            "[1 2 3] \n",
            "Dimension: 1\n",
            "Data Type: int64\n",
            "\n",
            "Array: \n",
            "[[1 2]\n",
            " [3 4]] \n",
            "Dimension: 2\n",
            "Data Type: int64\n",
            "\n"
          ]
        }
      ],
      "source": [
        "#Array introduction\n",
        "import numpy as np\n",
        "#Create and display zero, one, and n-dimensional arrays\n",
        "zero_dim_array=np.array(5)\n",
        "one_dim_array=np.array([1,2,3])\n",
        "n_dim_array=np.array([[1,2],[3,4]])\n",
        "for arr in [zero_dim_array, one_dim_array, n_dim_array]:\n",
        "  print(f\"Array: \\n{arr} \\nDimension: {arr.ndim}\\nData Type: {arr.dtype}\\n\")"
      ]
    },
    {
      "cell_type": "code",
      "source": [
        "# Problem_1\n",
        "# Complete the following Tasks:\n",
        "# 1. Initialize an empty array with size 2X2.\n",
        "arr=[[0,0],[0,0]]\n",
        "for i in arr:\n",
        "  print(i)\n",
        "\n"
      ],
      "metadata": {
        "colab": {
          "base_uri": "https://localhost:8080/"
        },
        "id": "vMk_IGVRdfSc",
        "outputId": "07e0eec0-3eac-43c1-a8fa-77a8e083bbd0"
      },
      "execution_count": 2,
      "outputs": [
        {
          "output_type": "stream",
          "name": "stdout",
          "text": [
            "[0, 0]\n",
            "[0, 0]\n"
          ]
        }
      ]
    },
    {
      "cell_type": "code",
      "source": [
        "# 2. Initialize an all one array with size 4X2.\n",
        "arr=[[0,0], [0,0], [0,0], [0,0]]\n",
        "for i in arr:\n",
        "  print (i)"
      ],
      "metadata": {
        "colab": {
          "base_uri": "https://localhost:8080/"
        },
        "id": "btFXZRWDe4b0",
        "outputId": "a4545a18-748c-46b9-ac32-a2fa6487b37a"
      },
      "execution_count": 3,
      "outputs": [
        {
          "output_type": "stream",
          "name": "stdout",
          "text": [
            "[0, 0]\n",
            "[0, 0]\n",
            "[0, 0]\n",
            "[0, 0]\n"
          ]
        }
      ]
    },
    {
      "cell_type": "code",
      "source": [
        "# 3. Return a new array of given shape and type, filled with fill value.{Hint: np.full}\n",
        "import numpy as np\n",
        "arr=np.full((4,4),1,dtype=int)\n",
        "print(arr)"
      ],
      "metadata": {
        "colab": {
          "base_uri": "https://localhost:8080/"
        },
        "id": "04kaWZ1pe7Dc",
        "outputId": "737926f7-da57-4ee8-a9bd-42ea7a54fdba"
      },
      "execution_count": 5,
      "outputs": [
        {
          "output_type": "stream",
          "name": "stdout",
          "text": [
            "[[1 1 1 1]\n",
            " [1 1 1 1]\n",
            " [1 1 1 1]\n",
            " [1 1 1 1]]\n"
          ]
        }
      ]
    },
    {
      "cell_type": "code",
      "source": [
        "# 4. Return a new array of zeros with same shape and type as a given array.{Hint: np.zeros like}\n",
        "import numpy as np\n",
        "a=[[1,2,3], [4,5,6]]\n",
        "arr=np.zeros_like(a)\n",
        "print(arr)\n"
      ],
      "metadata": {
        "colab": {
          "base_uri": "https://localhost:8080/"
        },
        "id": "FkJ4hLe4e88F",
        "outputId": "57d9020e-be44-4d4e-ab40-c235c20cd9b3"
      },
      "execution_count": 6,
      "outputs": [
        {
          "output_type": "stream",
          "name": "stdout",
          "text": [
            "[[0 0 0]\n",
            " [0 0 0]]\n"
          ]
        }
      ]
    },
    {
      "cell_type": "code",
      "source": [
        "# 5. Return a new array of ones with same shape and type as a given array.{Hint: np.ones like}\n",
        "import numpy as np\n",
        "a=[[1,2,3], [4,5,6]]\n",
        "arr=np.ones_like(a)\n",
        "print(arr)"
      ],
      "metadata": {
        "colab": {
          "base_uri": "https://localhost:8080/"
        },
        "id": "n7hUwW43e-64",
        "outputId": "0efc91fe-ca4c-4adc-f5dd-1ffcc09696de"
      },
      "execution_count": 7,
      "outputs": [
        {
          "output_type": "stream",
          "name": "stdout",
          "text": [
            "[[1 1 1]\n",
            " [1 1 1]]\n"
          ]
        }
      ]
    },
    {
      "cell_type": "code",
      "source": [
        "# 6. For an existing list new_list = [1,2,3,4] convert to an numpy array.{Hint: np.array()}\n",
        "import numpy as np\n",
        "new_list=[1,2,3,4]\n",
        "arr=np.array(new_list)\n",
        "print(arr)"
      ],
      "metadata": {
        "colab": {
          "base_uri": "https://localhost:8080/"
        },
        "id": "LcKff8j6fCSx",
        "outputId": "59c1eab3-5224-4329-b800-7bf07caaa1d2"
      },
      "execution_count": 8,
      "outputs": [
        {
          "output_type": "stream",
          "name": "stdout",
          "text": [
            "[1 2 3 4]\n"
          ]
        }
      ]
    },
    {
      "cell_type": "code",
      "source": [
        "#Problem_2\n",
        "# Complete the following tasks:\n",
        "# 1. Create an array with values ranging from 10 to 49. {Hint:np.arrange()}.\n",
        "import numpy as np\n",
        "arr_arrange=np.arange(10,50) #start,stop,step\n",
        "print(arr_arrange)\n"
      ],
      "metadata": {
        "colab": {
          "base_uri": "https://localhost:8080/"
        },
        "id": "gBaV2_WVjlxr",
        "outputId": "f10b17b1-930b-4ac2-9443-85da0f9ed7bd"
      },
      "execution_count": 12,
      "outputs": [
        {
          "output_type": "stream",
          "name": "stdout",
          "text": [
            "[10 11 12 13 14 15 16 17 18 19 20 21 22 23 24 25 26 27 28 29 30 31 32 33\n",
            " 34 35 36 37 38 39 40 41 42 43 44 45 46 47 48 49]\n"
          ]
        }
      ]
    },
    {
      "cell_type": "code",
      "source": [
        "# 2. Create a 3X3 matrix with values ranging from 0 to 8.\n",
        "# {Hint:look for np.reshape()}\n",
        "import numpy as np\n",
        "arr=np.arange(9)\n",
        "arr_reshape=arr.reshape(3,3)\n",
        "print(arr_reshape)\n"
      ],
      "metadata": {
        "colab": {
          "base_uri": "https://localhost:8080/"
        },
        "id": "RcKzKzOvjzoh",
        "outputId": "5010172f-5a59-4612-84ca-4ec6a7be57a2"
      },
      "execution_count": 16,
      "outputs": [
        {
          "output_type": "stream",
          "name": "stdout",
          "text": [
            "[[0 1 2]\n",
            " [3 4 5]\n",
            " [6 7 8]]\n"
          ]
        }
      ]
    },
    {
      "cell_type": "code",
      "source": [
        "# 3. Create a 3X3 identity matrix.{Hint:np.eye()}\n",
        "import numpy as np\n",
        "arr=np.eye(3)\n",
        "print(arr)"
      ],
      "metadata": {
        "colab": {
          "base_uri": "https://localhost:8080/"
        },
        "id": "_nwWT5Uvj38b",
        "outputId": "c8afdbe3-0857-4e85-9d28-f78f292625ff"
      },
      "execution_count": 17,
      "outputs": [
        {
          "output_type": "stream",
          "name": "stdout",
          "text": [
            "[[1. 0. 0.]\n",
            " [0. 1. 0.]\n",
            " [0. 0. 1.]]\n"
          ]
        }
      ]
    },
    {
      "cell_type": "code",
      "source": [
        "# 4. Create a random array of size 30 and find the mean of the array.\n",
        "# {Hint:check for np.random.random() and array.mean() function}\n",
        "import numpy as np\n",
        "arr_random=np.random.random(30)\n",
        "arr_mean=arr_random.mean()\n",
        "print(arr_random)\n",
        "print(arr_mean)"
      ],
      "metadata": {
        "colab": {
          "base_uri": "https://localhost:8080/"
        },
        "id": "yqt0pV6aj5-z",
        "outputId": "c1163777-9672-49b3-efab-82aafc1e8441"
      },
      "execution_count": 20,
      "outputs": [
        {
          "output_type": "stream",
          "name": "stdout",
          "text": [
            "[0.53479382 0.60730648 0.26555488 0.1984958  0.52170495 0.83286599\n",
            " 0.66793148 0.40143684 0.16821108 0.11111355 0.06611919 0.58196759\n",
            " 0.91269688 0.94126122 0.48805533 0.847818   0.14231876 0.60900581\n",
            " 0.87214971 0.93262725 0.37974384 0.56002374 0.94901982 0.68940321\n",
            " 0.41224692 0.55916923 0.31788389 0.16152836 0.68984606 0.29953049]\n",
            "0.5240610061223532\n"
          ]
        }
      ]
    },
    {
      "cell_type": "code",
      "source": [
        "# 5. Create a 10X10 array with random values and find the minimum and maximum values.\n",
        "import numpy as np\n",
        "arr_random=np.random.randint(1, 101, size=(10,10))\n",
        "arr_maxi=arr_random.max()\n",
        "arr_mini=arr_random.min()\n",
        "print(arr_maxi)\n",
        "print(arr_mini)"
      ],
      "metadata": {
        "colab": {
          "base_uri": "https://localhost:8080/"
        },
        "id": "nt6zQCb-j9I5",
        "outputId": "7f0f7e83-9491-46ae-cf1e-939f85983a7a"
      },
      "execution_count": 24,
      "outputs": [
        {
          "output_type": "stream",
          "name": "stdout",
          "text": [
            "98\n",
            "2\n"
          ]
        }
      ]
    },
    {
      "cell_type": "code",
      "source": [
        "# 6. Create a zero array of size 10 and replace 5th element with 1.\n",
        "import numpy as np\n",
        "arr_zero=np.zeros(10)\n",
        "arr_zero[4]=1\n",
        "print(arr_zero)"
      ],
      "metadata": {
        "colab": {
          "base_uri": "https://localhost:8080/"
        },
        "id": "0VNZnuU_j_CT",
        "outputId": "0636047f-40cb-4ccd-d4c7-197809330798"
      },
      "execution_count": 25,
      "outputs": [
        {
          "output_type": "stream",
          "name": "stdout",
          "text": [
            "[0. 0. 0. 0. 1. 0. 0. 0. 0. 0.]\n"
          ]
        }
      ]
    },
    {
      "cell_type": "code",
      "source": [
        "# 7. Reverse an array arr = [1,2,0,0,4,0].\n",
        "arr=[1,2,0,0,4,0]\n",
        "arr_reverse=arr[::-1]\n",
        "print(arr_reverse)"
      ],
      "metadata": {
        "colab": {
          "base_uri": "https://localhost:8080/"
        },
        "id": "GBBCAugdkBSP",
        "outputId": "5857942d-91f9-47ad-bc0b-81c8b76accad"
      },
      "execution_count": 26,
      "outputs": [
        {
          "output_type": "stream",
          "name": "stdout",
          "text": [
            "[0, 4, 0, 0, 2, 1]\n"
          ]
        }
      ]
    },
    {
      "cell_type": "code",
      "source": [
        "# 8. Create a 2d array with 1 on border and 0 inside.\n",
        "import numpy as np\n",
        "size=5\n",
        "arr=np.zeros((size,size))\n",
        "arr[0,:]=1 #Top border\n",
        "arr[-1,:]=1 # Bottom border\n",
        "arr[:, 0]=1 #left border\n",
        "arr[:,-1]=1 #right border\n",
        "print(arr)"
      ],
      "metadata": {
        "colab": {
          "base_uri": "https://localhost:8080/"
        },
        "id": "6BMMlEVjkEdP",
        "outputId": "18da2c0c-571a-427e-ff8a-cdd91c2e0c36"
      },
      "execution_count": 34,
      "outputs": [
        {
          "output_type": "stream",
          "name": "stdout",
          "text": [
            "[[1. 1. 1. 1. 1.]\n",
            " [1. 0. 0. 0. 1.]\n",
            " [1. 0. 0. 0. 1.]\n",
            " [1. 0. 0. 0. 1.]\n",
            " [1. 1. 1. 1. 1.]]\n"
          ]
        }
      ]
    },
    {
      "cell_type": "code",
      "source": [
        "# 9. Create a 8X8 matrix and fill it with a checkerboard pattern.\n",
        "import numpy as np\n",
        "size = 8\n",
        "arr = np.zeros((size, size))\n",
        "\n",
        "arr[::2, ::2] = 1  # Set 1 for even rows and even columns\n",
        "arr[1::2, 1::2] = 1  # Set 1 for odd rows and odd columns\n",
        "\n",
        "print(\"Checkerboard Pattern Array:\\n\", arr)\n"
      ],
      "metadata": {
        "colab": {
          "base_uri": "https://localhost:8080/"
        },
        "id": "J8EtK-iOkH7E",
        "outputId": "e15f312c-a37b-4237-e72b-f243209065e4"
      },
      "execution_count": 35,
      "outputs": [
        {
          "output_type": "stream",
          "name": "stdout",
          "text": [
            "Checkerboard Pattern Array:\n",
            " [[1. 0. 1. 0. 1. 0. 1. 0.]\n",
            " [0. 1. 0. 1. 0. 1. 0. 1.]\n",
            " [1. 0. 1. 0. 1. 0. 1. 0.]\n",
            " [0. 1. 0. 1. 0. 1. 0. 1.]\n",
            " [1. 0. 1. 0. 1. 0. 1. 0.]\n",
            " [0. 1. 0. 1. 0. 1. 0. 1.]\n",
            " [1. 0. 1. 0. 1. 0. 1. 0.]\n",
            " [0. 1. 0. 1. 0. 1. 0. 1.]]\n"
          ]
        }
      ]
    },
    {
      "cell_type": "code",
      "source": [
        "#Problem 3\n",
        "# For the following arrays:\n",
        "import numpy as np\n",
        "x = np.array([[1,2],[3,5]])\n",
        "y = np.array([[5,6],[7,8]]);\n",
        "v = np.array([9,10])\n",
        "w = np.array([11,12]);\n",
        "# Complete all the task using numpy:\n",
        "# 1. Add the two array.\n",
        "add=x+y\n",
        "print(add)\n",
        "print(\"------\")\n",
        "# 2. Subtract the two array.\n",
        "sub=v-w\n",
        "print(sub)\n",
        "print(\"-------\")\n",
        "# 3. Multiply the array with any integers of your choice.\n",
        "multi=x*2\n",
        "print(multi)\n",
        "print(\"--------\")\n",
        "# 4. Find the square of each element of the array.\n",
        "square=np.square(x)\n",
        "print(square)\n",
        "print(\"--------\")\n",
        "# 5. Find the dot product between: v(and)w ; x(and)v ; x(and)y.\n",
        "dot_product1=np.dot(v,w)\n",
        "dot_product2=np.dot(x,v)\n",
        "dot_product3=np.dot(x,y)\n",
        "print(dot_product1)\n",
        "print(dot_product2)\n",
        "print(dot_product3)\n",
        "print(\"---------\")\n",
        "# 6. Concatenate x(and)y along row and Concatenate v(and)w along column.\n",
        "# {Hint:try np.concatenate() or np.vstack() functions.\n",
        "concat_xy_row = np.concatenate((x, y), axis=0)\n",
        "concat_vw_col = np.concatenate((v.reshape(-1, 1), w.reshape(-1, 1)), axis=1)\n",
        "print(\"Concatenate x and y along rows:\\n\", concat_xy_row)\n",
        "print(\"Concatenate v and w along columns:\\n\", concat_vw_col)\n",
        "print(\"--------\")\n",
        "\n",
        "# 7. Concatenate x(and)v; if you get an error, observe and explain why did you get the error?\n",
        "try:\n",
        "    concat_xv = np.concatenate((x, v), axis=0)\n",
        "    print(\"Concatenated x and v:\\n\", concat_xv)\n",
        "except Exception as e:\n",
        "    print(\"Error:\", e)\n"
      ],
      "metadata": {
        "colab": {
          "base_uri": "https://localhost:8080/"
        },
        "id": "gC_AVi93p7f3",
        "outputId": "a4b6f110-4849-4854-e939-04fcfa186017"
      },
      "execution_count": 43,
      "outputs": [
        {
          "output_type": "stream",
          "name": "stdout",
          "text": [
            "[[ 6  8]\n",
            " [10 13]]\n",
            "------\n",
            "[-2 -2]\n",
            "-------\n",
            "[[ 2  4]\n",
            " [ 6 10]]\n",
            "--------\n",
            "[[ 1  4]\n",
            " [ 9 25]]\n",
            "--------\n",
            "219\n",
            "[29 77]\n",
            "[[19 22]\n",
            " [50 58]]\n",
            "---------\n",
            "Concatenate x and y along rows:\n",
            " [[1 2]\n",
            " [3 5]\n",
            " [5 6]\n",
            " [7 8]]\n",
            "Concatenate v and w along columns:\n",
            " [[ 9 11]\n",
            " [10 12]]\n",
            "--------\n",
            "Error: all the input arrays must have same number of dimensions, but the array at index 0 has 2 dimension(s) and the array at index 1 has 1 dimension(s)\n"
          ]
        }
      ]
    },
    {
      "cell_type": "code",
      "source": [
        "#Problem 4\n",
        "# • For the following arrays:\n",
        "# A = np.array([[3,4],[7,8]]) and B = np.array([[5,3],[2,1]]);\n",
        "# Prove following with Numpy:\n",
        "# 1. Prove A.A−1 = I.\n",
        "# 2. Prove AB ≠ BA.\n",
        "# 3. Prove (AB)\n",
        "# T = BTAT\n",
        "import numpy as np\n",
        "\n",
        "A = np.array([[3, 4], [7, 8]])\n",
        "B = np.array([[5, 3], [2, 1]])\n",
        "# Compute the inverse of A\n",
        "A_inv = np.linalg.inv(A)\n",
        "\n",
        "# Multiply A by its inverse\n",
        "identity_matrix = np.dot(A, A_inv)\n",
        "\n",
        "print(\"A * A^-1:\\n\", identity_matrix)\n",
        "\n",
        "# Multiply A and B\n",
        "AB = np.dot(A, B)\n",
        "\n",
        "# Multiply B and A\n",
        "BA = np.dot(B, A)\n",
        "\n",
        "print(\"AB:\\n\", AB)\n",
        "print(\"BA:\\n\", BA)\n",
        "\n",
        "# Check if AB is equal to BA\n",
        "are_equal = np.array_equal(AB, BA)\n",
        "print(\"Is AB equal to BA?\", are_equal)\n",
        "\n",
        "# Compute (AB)^T\n",
        "AB_transpose = np.transpose(np.dot(A, B))\n",
        "\n",
        "# Compute B^T * A^T\n",
        "BT_AT = np.dot(np.transpose(B), np.transpose(A))\n",
        "\n",
        "print(\"Transpose of AB:\\n\", AB_transpose)\n",
        "print(\"B^T * A^T:\\n\", BT_AT)\n",
        "\n",
        "# Check if they are equal\n",
        "are_equal_transpose = np.array_equal(AB_transpose, BT_AT)\n",
        "print(\"Is (AB)^T equal to B^T A^T?\", are_equal_transpose)\n"
      ],
      "metadata": {
        "colab": {
          "base_uri": "https://localhost:8080/"
        },
        "id": "OpjYgIWlsEYH",
        "outputId": "6e5ccbe1-6d41-4fb0-9ca7-fdde3e755998"
      },
      "execution_count": 44,
      "outputs": [
        {
          "output_type": "stream",
          "name": "stdout",
          "text": [
            "A * A^-1:\n",
            " [[1.00000000e+00 0.00000000e+00]\n",
            " [1.77635684e-15 1.00000000e+00]]\n",
            "AB:\n",
            " [[23 13]\n",
            " [51 29]]\n",
            "BA:\n",
            " [[36 44]\n",
            " [13 16]]\n",
            "Is AB equal to BA? False\n",
            "Transpose of AB:\n",
            " [[23 51]\n",
            " [13 29]]\n",
            "B^T * A^T:\n",
            " [[23 51]\n",
            " [13 29]]\n",
            "Is (AB)^T equal to B^T A^T? True\n"
          ]
        }
      ]
    },
    {
      "cell_type": "code",
      "source": [
        "# Solve the following system of Linear equation using Inverse Methods.\n",
        "# 2x − 3y + z = −1\n",
        "# x − y + 2z = −3\n",
        "# 3x + y − z = 9\n",
        "# {Hint: First use Numpy array to represent the equation in Matrix form. Then Solve for: AX = B}\n",
        "import numpy as np\n",
        "\n",
        "# Define the matrix A (coefficients) and B (constants)\n",
        "A = np.array([[2, -3, 1], [1, -1, 2], [3, 1, -1]])\n",
        "B = np.array([-1, -3, 9])\n",
        "\n",
        "# Compute the inverse of A\n",
        "A_inv = np.linalg.inv(A)\n",
        "\n",
        "# Solve for X using the inverse method\n",
        "X = np.dot(A_inv, B)\n",
        "\n",
        "print(\"Solution for [x, y, z]:\", X)\n"
      ],
      "metadata": {
        "colab": {
          "base_uri": "https://localhost:8080/"
        },
        "id": "h_Mqmo_ismw4",
        "outputId": "0b474fad-ab3e-43d1-e831-01d572573ed1"
      },
      "execution_count": 45,
      "outputs": [
        {
          "output_type": "stream",
          "name": "stdout",
          "text": [
            "Solution for [x, y, z]: [ 2.  1. -2.]\n"
          ]
        }
      ]
    },
    {
      "cell_type": "code",
      "source": [
        "#Now: solve the above equation using np.linalg.inv function.{Explore more about ”linalg” function\n",
        "#of Numpy}\n",
        "import numpy as np\n",
        "\n",
        "# Define the matrix A (coefficients) and B (constants)\n",
        "A = np.array([[2, -3, 1], [1, -1, 2], [3, 1, -1]])\n",
        "B = np.array([-1, -3, 9])\n",
        "\n",
        "# Compute the inverse of A using np.linalg.inv\n",
        "A_inv = np.linalg.inv(A)\n",
        "\n",
        "# Solve for X using the inverse method\n",
        "X = np.dot(A_inv, B)\n",
        "\n",
        "print(\"Solution for [x, y, z]:\", X)\n"
      ],
      "metadata": {
        "colab": {
          "base_uri": "https://localhost:8080/"
        },
        "id": "bYPg3sY-s03-",
        "outputId": "a0830b28-e779-4513-b936-b90dadfadca4"
      },
      "execution_count": 46,
      "outputs": [
        {
          "output_type": "stream",
          "name": "stdout",
          "text": [
            "Solution for [x, y, z]: [ 2.  1. -2.]\n"
          ]
        }
      ]
    }
  ]
}