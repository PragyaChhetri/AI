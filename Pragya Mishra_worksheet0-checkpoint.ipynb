{
 "cells": [
  {
   "cell_type": "code",
   "execution_count": 2,
   "id": "45d728ae-db73-4835-ad89-4940102540ab",
   "metadata": {},
   "outputs": [
    {
     "name": "stdout",
     "output_type": "stream",
     "text": [
      "Hello World\n"
     ]
    }
   ],
   "source": [
    "print(\"Hello World\")"
   ]
  },
  {
   "cell_type": "code",
   "execution_count": 1,
   "id": "829508fd-2428-4069-88fa-fd59ba38bd45",
   "metadata": {},
   "outputs": [
    {
     "name": "stdout",
     "output_type": "stream",
     "text": [
      "Hello, World!\n",
      "Python version: 3.12.5 (tags/v3.12.5:ff3bc82, Aug  6 2024, 20:45:27) [MSC v.1940 64 bit (AMD64)]\n"
     ]
    }
   ],
   "source": [
    "import sys\n",
    "if sys.version_info.major==3 and sys.version_info.minor >=6:\n",
    "    print(\"Hello, World!\")\n",
    "    print(f\"Python version: {sys.version}\")\n",
    "else:\n",
    "    print(\"Please use python 3.6 or higher\")"
   ]
  },
  {
   "cell_type": "code",
   "execution_count": 2,
   "id": "d1c01dd3-92a2-44b9-9dbc-67507f96f630",
   "metadata": {},
   "outputs": [
    {
     "name": "stdout",
     "output_type": "stream",
     "text": [
      "Data type of variable age=  <class 'int'>\n",
      "Data type of variable pi=  <class 'float'>\n",
      "Data type of variable temperature=  <class 'float'>\n"
     ]
    }
   ],
   "source": [
    "age=23\n",
    "pi=3.14\n",
    "temperature=-5.5\n",
    "print(\"Data type of variable age= \", type(age))\n",
    "print(\"Data type of variable pi= \", type(pi))\n",
    "print(\"Data type of variable temperature= \", type(temperature))"
   ]
  },
  {
   "cell_type": "code",
   "execution_count": 3,
   "id": "51bc502e-a243-45b8-b7a8-909ce7204ec5",
   "metadata": {},
   "outputs": [
    {
     "name": "stdout",
     "output_type": "stream",
     "text": [
      "Data type of the variable name=  <class 'str'>\n",
      "Data type of the variable greeting=  <class 'str'>\n",
      "Data type of the variable address=  <class 'str'>\n",
      "The first letter of the name is: A\n",
      "The last letter of the name is: e\n",
      "The second letter to the fourth of the name is: lic\n",
      "The first two letters of the name are: Al\n",
      "Substring starting from the third letter is: ice\n"
     ]
    }
   ],
   "source": [
    "name=\"Alice\"\n",
    "greeting=\"Hello\"\n",
    "address=\"123 Main St\"\n",
    "print(\"Data type of the variable name= \", type(name))\n",
    "print(\"Data type of the variable greeting= \", type(greeting))\n",
    "print(\"Data type of the variable address= \", type(address))\n",
    "#slice only one element\n",
    "print(\"The first letter of the name is:\", name[0])\n",
    "print(\"The last letter of the name is:\", name[-1])\n",
    "#slice a range of elements\n",
    "print(\"The second letter to the fourth of the name is:\", name[1:4])\n",
    "print(\"The first two letters of the name are:\", name[:2])\n",
    "print(\"Substring starting from the third letter is:\", name[2:])"
   ]
  },
  {
   "cell_type": "code",
   "execution_count": 4,
   "id": "f8421d48-51fa-4562-a06c-3f38355dc53c",
   "metadata": {},
   "outputs": [
    {
     "name": "stdout",
     "output_type": "stream",
     "text": [
      "[False, 'Hello', True]\n"
     ]
    }
   ],
   "source": [
    "list1=[1,2,3,4]\n",
    "mixed_list=[12,\"Hello\", True]\n",
    "#list is mutable\n",
    "mixed_list[0]=False\n",
    "print(mixed_list)"
   ]
  },
  {
   "cell_type": "code",
   "execution_count": 6,
   "id": "694dc882-a817-4330-bdd2-8c2822ab29a6",
   "metadata": {},
   "outputs": [
    {
     "name": "stdout",
     "output_type": "stream",
     "text": [
      "First element: red\n",
      "Last two elements: ('yellow', 'blue')\n",
      "Middle two element: ('green', 'yellow')\n",
      "('red', 'green', 'yellow', 'blue')\n"
     ]
    }
   ],
   "source": [
    "colors=(\"red\", \"green\", \"yellow\", \"blue\")\n",
    "print(\"First element:\", colors[0])\n",
    "print(\"Last two elements:\", colors[2:])\n",
    "print(\"Middle two element:\", colors[1:3])\n",
    "#colors[0]=\"purple\"\n",
    "print(colors)"
   ]
  },
  {
   "cell_type": "code",
   "execution_count": 7,
   "id": "091b6529-cc5e-4a66-8a10-6708d5a3f3fe",
   "metadata": {},
   "outputs": [
    {
     "name": "stdout",
     "output_type": "stream",
     "text": [
      "Hello my name is John. I am 30 years old and I live at Pittsburgh.\n",
      "All keys:  ['name', 'age', 'city']\n",
      "All values: ['John', 30, 'Pittsburgh']\n"
     ]
    }
   ],
   "source": [
    "person={\"name\":\"John\",\"age\":30,\"city\":\"Pittsburgh\"}\n",
    "print(f\"Hello my name is {person[\"name\"]}. I am {person[\"age\"]} years old and I live at {person [\"city\"]}.\")\n",
    "print(\"All keys: \", list(person.keys()))\n",
    "print(\"All values:\", list(person.values()))"
   ]
  },
  {
   "cell_type": "code",
   "execution_count": 8,
   "id": "3a43aa39-b0fd-40dd-8158-f90d01c16740",
   "metadata": {},
   "outputs": [
    {
     "name": "stdout",
     "output_type": "stream",
     "text": [
      "{1, 2, 3, 4, 5}\n"
     ]
    }
   ],
   "source": [
    "unique_numbers={1,2,3,3,3,3,4,5}\n",
    "print(unique_numbers)"
   ]
  },
  {
   "cell_type": "code",
   "execution_count": 9,
   "id": "ee5db89f-1368-46b0-a0e7-c0c2e95148f3",
   "metadata": {},
   "outputs": [
    {
     "name": "stdout",
     "output_type": "stream",
     "text": [
      "Data type of the variable is_student= <class 'bool'>\n",
      "Data type of the variable has_license= <class 'bool'>\n"
     ]
    }
   ],
   "source": [
    "is_student=True\n",
    "has_license=False\n",
    "print(\"Data type of the variable is_student=\", type(is_student))\n",
    "print(\"Data type of the variable has_license=\", type(has_license))"
   ]
  },
  {
   "cell_type": "code",
   "execution_count": 10,
   "id": "c44eed41-1ffc-49d9-af7c-7697679b5ec5",
   "metadata": {},
   "outputs": [
    {
     "name": "stdout",
     "output_type": "stream",
     "text": [
      "Positive\n"
     ]
    }
   ],
   "source": [
    "num=10\n",
    "if num>0:\n",
    "    print(\"Positive\")\n",
    "elif num==0:\n",
    "    print(\"Zero\")\n",
    "else:\n",
    "    print(\"Non positive\")"
   ]
  },
  {
   "cell_type": "code",
   "execution_count": 11,
   "id": "475cd206-acdb-45e0-ab30-5db9629c699e",
   "metadata": {},
   "outputs": [
    {
     "name": "stdout",
     "output_type": "stream",
     "text": [
      "Both cponditions are true\n",
      "At least one conditions is true\n",
      "x is not equal to 0\n"
     ]
    }
   ],
   "source": [
    "x=5\n",
    "y=10\n",
    "if x>0 and y<20:\n",
    "    print(\"Both cponditions are true\")\n",
    "if x>0 or y>20:\n",
    "    print(\"At least one conditions is true\")\n",
    "if not x==0:\n",
    "    print(\"x is not equal to 0\")"
   ]
  },
  {
   "cell_type": "code",
   "execution_count": 12,
   "id": "f1e2a1f4-1530-41c4-a7ce-e074433dec90",
   "metadata": {},
   "outputs": [
    {
     "name": "stdout",
     "output_type": "stream",
     "text": [
      "Either a or b is False\n",
      "At least one of a or b is true\n",
      "a is true\n"
     ]
    }
   ],
   "source": [
    "a=True\n",
    "b=False\n",
    "if a and b:\n",
    "    print(\"Both a and b are True\")\n",
    "else:\n",
    "    print(\"Either a or b is False\")\n",
    "if a or b:\n",
    "    print(\"At least one of a or b is true\")\n",
    "else:\n",
    "    print(\"Both a and b are false\")\n",
    "if not a:\n",
    "    print(\"a is false\")\n",
    "else:\n",
    "    print(\"a is true\")"
   ]
  },
  {
   "cell_type": "code",
   "execution_count": 13,
   "id": "af931f0b-8b72-420f-aeb4-9cd2322be672",
   "metadata": {},
   "outputs": [
    {
     "name": "stdout",
     "output_type": "stream",
     "text": [
      "apple\n",
      "banana\n",
      "cherry\n"
     ]
    }
   ],
   "source": [
    "fruits=[\"apple\", \"banana\", \"cherry\"]\n",
    "for fruit in fruits:\n",
    "    print(fruit)"
   ]
  },
  {
   "cell_type": "code",
   "execution_count": 14,
   "id": "2f885f90-dfdb-4eee-8ac7-95c27af2c030",
   "metadata": {},
   "outputs": [
    {
     "name": "stdout",
     "output_type": "stream",
     "text": [
      "Count is: 0\n",
      "Count is: 1\n",
      "Count is: 2\n",
      "Count is: 3\n",
      "Count is: 4\n"
     ]
    }
   ],
   "source": [
    "count=0\n",
    "while count<5:\n",
    "    print(\"Count is:\", count)\n",
    "    count +=1"
   ]
  },
  {
   "cell_type": "code",
   "execution_count": 15,
   "id": "e273ba80-8c47-46f5-bd27-51c58885a060",
   "metadata": {},
   "outputs": [
    {
     "name": "stdout",
     "output_type": "stream",
     "text": [
      "loop 1\n",
      "apple\n",
      "loop 2\n",
      "banana\n",
      "orange\n"
     ]
    }
   ],
   "source": [
    "fruits=[\"apple\", \"banana\", \"orange\"]\n",
    "print(\"loop 1\")\n",
    "for fruit in fruits:\n",
    "    print(fruit)\n",
    "    if fruit==\"apple\":\n",
    "        break\n",
    "print(\"loop 2\")\n",
    "for fruit in fruits:\n",
    "    if fruit==\"apple\":\n",
    "        continue\n",
    "    else:\n",
    "        print(fruit)"
   ]
  },
  {
   "cell_type": "code",
   "execution_count": 16,
   "id": "98eb0ff9-36ad-42f9-a808-69f0dd5cec08",
   "metadata": {},
   "outputs": [],
   "source": [
    " def add_binary(a,b):\n",
    "     binary_sum=bin(a+b)[2:]\n",
    "     return binary_sum"
   ]
  },
  {
   "cell_type": "code",
   "execution_count": 17,
   "id": "6561ce4c-04b3-461a-9b20-940303ccb6bc",
   "metadata": {},
   "outputs": [
    {
     "name": "stdout",
     "output_type": "stream",
     "text": [
      "Hello, World!\n",
      "5\n",
      "<class 'int'>\n",
      "6\n"
     ]
    }
   ],
   "source": [
    "print(\"Hello, World!\")\n",
    "length=len(\"Hello\")\n",
    "data_type=type(42)\n",
    "total=sum([1,2,3])\n",
    "print(length)\n",
    "print(data_type)\n",
    "print(total)"
   ]
  },
  {
   "cell_type": "code",
   "execution_count": 18,
   "id": "36dd823d-1557-483a-9fc8-3011577c944a",
   "metadata": {},
   "outputs": [
    {
     "name": "stdout",
     "output_type": "stream",
     "text": [
      "HELLO\n",
      "['apple', 'banana', 'cherry']\n",
      "25\n"
     ]
    }
   ],
   "source": [
    "message=\"hello\".upper()\n",
    "fruit=[\"apple\",\"banana\"]\n",
    "fruit.append(\"cherry\")\n",
    "info={\"name\":\"Alice\", \"age\": 25}\n",
    "age=info.get(\"age\")\n",
    "print(message)\n",
    "print(fruit)\n",
    "print(age)"
   ]
  },
  {
   "cell_type": "code",
   "execution_count": 22,
   "id": "6ba5e8bd-41cc-4130-9f1b-c0147b7f5bd1",
   "metadata": {},
   "outputs": [
    {
     "name": "stdout",
     "output_type": "stream",
     "text": [
      "Choose conversion type:\n",
      "1. Celsius to Fahrenheit\n",
      "2. Fahrenheit to Celsius\n"
     ]
    },
    {
     "name": "stdin",
     "output_type": "stream",
     "text": [
      "Enter 1 or 2:  1\n",
      "Enter temperature in Celsius:  23\n"
     ]
    },
    {
     "name": "stdout",
     "output_type": "stream",
     "text": [
      "23.0 C is equal to 73.4F\n"
     ]
    },
    {
     "data": {
      "text/plain": [
       "73.4"
      ]
     },
     "execution_count": 22,
     "metadata": {},
     "output_type": "execute_result"
    }
   ],
   "source": [
    " def temperature_converter():\n",
    "     print(\"Choose conversion type:\")\n",
    "     print(\"1. Celsius to Fahrenheit\")\n",
    "     print(\"2. Fahrenheit to Celsius\")\n",
    "     choice=input(\"Enter 1 or 2: \")\n",
    "     if choice==\"1\":\n",
    "         celsius=float(input(\"Enter temperature in Celsius: \"))\n",
    "         fahrenheit=(celsius *9/5) +32\n",
    "         print(f\"{celsius} C is equal to {fahrenheit}F\")\n",
    "         return fahrenheit\n",
    "     elif choice==2:\n",
    "         fahrenheit =float(input(\"Enter temperature in Celsius: \"))\n",
    "         celsius=(fahrenheit -32)*5/9\n",
    "         print(f\"{fahrenheit}F is equal to {celsius}C\")\n",
    "         return celsius\n",
    "     else:\n",
    "         print(\"Invalid choice. Please enter 1 or 2.\")\n",
    "         return None\n",
    "temperature_converter()"
   ]
  },
  {
   "cell_type": "code",
   "execution_count": 23,
   "id": "1cef1f9b-c5f4-4934-abb4-05fa4b53d05e",
   "metadata": {},
   "outputs": [
    {
     "name": "stdout",
     "output_type": "stream",
     "text": [
      "10\n"
     ]
    }
   ],
   "source": [
    "x=10\n",
    "def print_global():\n",
    "    print(x)\n",
    "print_global()"
   ]
  },
  {
   "cell_type": "code",
   "execution_count": 24,
   "id": "a9467343-ae4f-44b6-be32-db9d0c96a651",
   "metadata": {},
   "outputs": [
    {
     "name": "stdout",
     "output_type": "stream",
     "text": [
      "5\n",
      "10\n"
     ]
    }
   ],
   "source": [
    "def print_local():\n",
    "    y=5\n",
    "    print(y)\n",
    "print_local()\n",
    "print(y)"
   ]
  },
  {
   "cell_type": "code",
   "execution_count": 25,
   "id": "1a7501c6-b54d-4702-aa1c-ee7e128e7c73",
   "metadata": {},
   "outputs": [
    {
     "name": "stdout",
     "output_type": "stream",
     "text": [
      "20\n"
     ]
    }
   ],
   "source": [
    "x=10\n",
    "def modify_global():\n",
    "    global x\n",
    "    x=20\n",
    "modify_global()\n",
    "print(x)"
   ]
  },
  {
   "cell_type": "code",
   "execution_count": 27,
   "id": "30fef4c4-bdbb-4bac-a566-0e4e42326c4b",
   "metadata": {},
   "outputs": [
    {
     "name": "stdout",
     "output_type": "stream",
     "text": [
      "Cold temperatures: [8.2, 7.9, 9.0, 8.5, 7.7, 8.4, 9.5, 8.1, 7.6, 8.0, 7.8, 8.7, 9.2, 8.3, 8.9, 7.8]\n",
      "Mild temperatures: [14.1, 13.5, 13.0, 12.9, 13.3, 14.0, 13.4, 14.2, 12.8, 13.7, 13.6, 13.8, 13.9, 12.7, 13.1, 12.5]\n",
      "Comfortable temperatures: [17.4, 18.0, 17.8, 16.5, 17.2, 16.7, 18.3, 17.9, 17.0, 16.8, 17.5, 17.1, 18.1, 16.4, 16.6]\n",
      "Number of times it was cold: 16\n",
      "Number of times it was mild: 16\n",
      "Number of times it was comfortable: 15\n"
     ]
    }
   ],
   "source": [
    "cold = []\n",
    "mild = []\n",
    "comfortable = []\n",
    "\n",
    "# List of temperatures\n",
    "temperature = [8.2, 17.4, 14.1, 7.9, 18.0, 13.5, 9.0, 17.8, 13.0, 8.5,\n",
    "               16.5, 12.9, 7.7, 17.2, 13.3, 8.4, 16.7, 14.0, 9.5, 18.3,\n",
    "               13.4, 8.1, 17.9, 14.2, 7.6, 17.0, 12.8, 8.0, 16.8, 13.7,\n",
    "               7.8, 17.5, 13.6, 8.7, 17.1, 13.8, 9.2, 18.1, 13.9, 8.3,\n",
    "               16.4, 12.7, 8.9, 13.1, 7.8, 16.6, 12.5]\n",
    "\n",
    "# Classify temperatures\n",
    "for temp in temperature:\n",
    "    if temp < 10:\n",
    "        cold.append(temp)\n",
    "    elif 10 <= temp <= 15:\n",
    "        mild.append(temp)\n",
    "    elif 15 < temp <= 20:\n",
    "        comfortable.append(temp)\n",
    "\n",
    "# Print classified lists\n",
    "print(\"Cold temperatures:\", cold)\n",
    "print(\"Mild temperatures:\", mild)\n",
    "print(\"Comfortable temperatures:\", comfortable)\n",
    "\n",
    "print(\"Number of times it was cold:\", len(cold))\n",
    "print(\"Number of times it was mild:\", len(mild))\n",
    "print(\"Number of times it was comfortable:\", len(comfortable))\n",
    "\n",
    "# Formula for temperature conversion: Fahrenheit = (Celsius × 9/5) + 32\n",
    "temperatures_fahrenheit = []\n"
   ]
  },
  {
   "cell_type": "code",
   "execution_count": 28,
   "id": "d561f9b1-c5be-4194-ac81-3f7a81c0e2a1",
   "metadata": {},
   "outputs": [
    {
     "name": "stdout",
     "output_type": "stream",
     "text": [
      "Temperatures in Fahrenheit: [46.76, 63.32, 57.379999999999995, 46.22, 64.4, 56.3, 48.2, 64.04, 55.4, 47.3, 61.7, 55.22, 45.86, 62.959999999999994, 55.94, 47.120000000000005, 62.059999999999995, 57.2, 49.1, 64.94, 56.120000000000005, 46.58, 64.22, 57.56, 45.68, 62.6, 55.04, 46.4, 62.24, 56.66, 46.04, 63.5, 56.48, 47.66, 62.78, 56.84, 48.56, 64.58, 57.02, 46.94, 61.519999999999996, 54.86, 48.02, 55.58, 46.04, 61.88, 54.5]\n"
     ]
    }
   ],
   "source": [
    "temperature = [8.2, 17.4, 14.1, 7.9, 18.0, 13.5, 9.0, 17.8, 13.0, 8.5,\n",
    "               16.5, 12.9, 7.7, 17.2, 13.3, 8.4, 16.7, 14.0, 9.5, 18.3,\n",
    "               13.4, 8.1, 17.9, 14.2, 7.6, 17.0, 12.8, 8.0, 16.8, 13.7,\n",
    "               7.8, 17.5, 13.6, 8.7, 17.1, 13.8, 9.2, 18.1, 13.9, 8.3,\n",
    "               16.4, 12.7, 8.9, 13.1, 7.8, 16.6, 12.5]\n",
    "\n",
    "# Convert temperatures from Celsius to Fahrenheit\n",
    "for temp in temperature:\n",
    "    fahrenheit = (temp * 9 / 5) + 32\n",
    "    temperatures_fahrenheit.append(fahrenheit)\n",
    "\n",
    "# Print the converted Fahrenheit values\n",
    "print(\"Temperatures in Fahrenheit:\", temperatures_fahrenheit)\n"
   ]
  },
  {
   "cell_type": "code",
   "execution_count": 3,
   "id": "e2b98087-4fc4-4ae3-a793-f7fbf327c93f",
   "metadata": {},
   "outputs": [
    {
     "name": "stdout",
     "output_type": "stream",
     "text": [
      "Average day-time temperature: 13.3\n"
     ]
    },
    {
     "data": {
      "image/png": "[encoded data removed]",
      "text/plain": [
       "<Figure size 640x480 with 1 Axes>"
      ]
     },
     "metadata": {},
     "output_type": "display_data"
    },
    {
     "name": "stdout",
     "output_type": "stream",
     "text": [
      "Night temperatures: [8.2, 17.4, 14.1, 7.9, 18.0, 13.5, 9.0, 17.8]\n",
      "Evening temperatures: [13.0, 8.5, 16.5, 12.9, 7.7, 17.2, 13.3, 8.4]\n",
      "Day temperatures: [16.7, 14.0, 9.5, 18.3, 13.4, 8.1, 17.9, 14.2, 7.6]\n"
     ]
    }
   ],
   "source": [
    "import matplotlib.pyplot as plt\n",
    "temperature = [8.2, 17.4, 14.1, 7.9, 18.0, 13.5, 9.0, 17.8, 13.0, 8.5,\n",
    "                16.5, 12.9, 7.7, 17.2, 13.3, 8.4, 16.7, 14.0, 9.5, 18.3,\n",
    "                13.4, 8.1, 17.9, 14.2, 7.6, 17.0, 12.8, 8.0, 16.8, 13.7,\n",
    "                7.8, 17.5, 13.6, 8.7, 17.1, 13.8, 9.2, 18.1, 13.9, 8.3,\n",
    "                16.4, 12.7, 8.9, 13.1, 7.8, 16.6, 12.5]\n",
    "\n",
    "# Create empty lists for night, evening, and day temperatures\n",
    "night = []\n",
    "evening = []\n",
    "day = []\n",
    "\n",
    "# Define time intervals and assign readings to respective categories\n",
    "for i, temp in enumerate(temperature):\n",
    "    if i < 8:  # Night: 00-08\n",
    "        night.append(temp)\n",
    "    elif i < 16:  # Evening: 08-16\n",
    "        evening.append(temp)\n",
    "    else:  # Day: 16-24\n",
    "        day.append(temp)\n",
    "\n",
    "day = temperature[16:25]\n",
    "\n",
    "# Calculate and print the average day-time temperature\n",
    "average_day_temp = sum(day) / len(day) if day else 0\n",
    "print(\"Average day-time temperature:\", average_day_temp)\n",
    "\n",
    "# (Optional) Plot day-time temperature vs. time using matplotlib\n",
    "time = list(range(16, 25))  # Times for the day (16:00 - 24:00)\n",
    "plt.plot(time, day, marker='o', linestyle='-', color='b')\n",
    "plt.title(\"Day vs. Temperature\")\n",
    "plt.xlabel(\"Time (Hours)\")\n",
    "plt.ylabel(\"Temperature (°C)\")\n",
    "plt.grid(True)\n",
    "plt.show()\n",
    "\n",
    "# Print classified temperatures\n",
    "print(\"Night temperatures:\", night)\n",
    "print(\"Evening temperatures:\", evening)\n",
    "print(\"Day temperatures:\", day)\n"
   ]
  },
  {
   "cell_type": "code",
   "execution_count": 4,
   "id": "93efc357-0df6-418b-8c42-3a79fbf86960",
   "metadata": {},
   "outputs": [
    {
     "data": {
      "text/plain": [
       "3628800"
      ]
     },
     "execution_count": 4,
     "metadata": {},
     "output_type": "execute_result"
    }
   ],
   "source": [
    "def factorial(n):\n",
    "    if n==0:\n",
    "        return 1\n",
    "    else:\n",
    "        return n*factorial(n-1)\n",
    "factorial(10)\n"
   ]
  },
  {
   "cell_type": "code",
   "execution_count": 5,
   "id": "26080610-d9e2-4ef1-8602-8dd812be63b5",
   "metadata": {},
   "outputs": [
    {
     "name": "stdout",
     "output_type": "stream",
     "text": [
      "Total sum of all numbers: 36\n"
     ]
    }
   ],
   "source": [
    "def sum_nested_list(nested_list):\n",
    "    total = 0\n",
    "    for item in nested_list:\n",
    "        if isinstance(item, list):  # If the item is a list, recursively sum its contents\n",
    "            total += sum_nested_list(item)\n",
    "        else:  # If the item is a number, add it to the total sum\n",
    "            total += item\n",
    "    return total\n",
    "\n",
    "# Test the function with a sample nested list\n",
    "nested_list = [1, [2, [3, 4], 5], 6, [7, 8]]\n",
    "result = sum_nested_list(nested_list)\n",
    "print(\"Total sum of all numbers:\", result)\n"
   ]
  },
  {
   "cell_type": "code",
   "execution_count": 7,
   "id": "187da7bb-9b6c-49a9-858e-3fd473c5c95a",
   "metadata": {},
   "outputs": [
    {
     "name": "stdout",
     "output_type": "stream",
     "text": [
      "['bca', 'cba', 'abc', 'bac', 'cab', 'acb']\n",
      "['baa', 'aab', 'aba']\n"
     ]
    }
   ],
   "source": [
    "def generate_permutations(s):\n",
    "    # Base case: if the string is empty or has one character, return it as a list\n",
    "    if len(s) <= 1:\n",
    "        return [s]\n",
    "\n",
    "    permutations = set()  # Use a set to store unique permutations\n",
    "    for i in range(len(s)):\n",
    "        # For each character in the string, generate permutations for the remaining characters\n",
    "        remaining = s[:i] + s[i + 1:]\n",
    "        for perm in generate_permutations(remaining):\n",
    "            permutations.add(s[i] + perm)  # Add the character to the front of the permutation\n",
    "\n",
    "    return list(permutations)  # Convert the set to a list before returning\n",
    "print(generate_permutations(\"abc\"))\n",
    "print(generate_permutations(\"aab\"))\n"
   ]
  },
  {
   "cell_type": "code",
   "execution_count": 8,
   "id": "5ac0f190-faed-4901-b50b-46d2d5e2be48",
   "metadata": {},
   "outputs": [],
   "source": [
    "directory_structure={\n",
    "     \"file1.txt\":200,\n",
    "     \"file2.txt\":300,\n",
    "     \"subdir1\":{\n",
    "         \"file3.txt\":400,\n",
    "         \"file4.txt\":100\n",
    "     },\n",
    "     \"subdir2\":{\n",
    "         \"subsubdir1\":{\n",
    "             \"file5.txt\":250\n",
    "         },\n",
    "         \"file6.txt\":150\n",
    "     }\n",
    " }\n"
   ]
  },
  {
   "cell_type": "code",
   "execution_count": 11,
   "id": "ebf173e5-8826-45d3-ab92-476f3878ffb9",
   "metadata": {},
   "outputs": [
    {
     "name": "stdout",
     "output_type": "stream",
     "text": [
      "Total directory size: 200 KB\n"
     ]
    }
   ],
   "source": [
    "def calculate_directory_size(directory):\n",
    "    total_size = 0\n",
    "# Iterate through the directory's items (files and subdirectories)\n",
    "    for item in directory:\n",
    "        if isinstance(directory[item], dict):  # If the item is a subdirectory, recurse into it\n",
    "            total_size += calculate_directory_size(directory[item])\n",
    "        else:  # If the item is a file, add its size to the total\n",
    "            total_size += directory[item]\n",
    "            return total_size\n",
    "directory_structure = {\n",
    "     \"file1.txt\": 200,\n",
    "     \"file2.txt\": 300,\n",
    "     \"subdir1\": {\n",
    "         \"file3.txt\": 400,\n",
    "         \"file4.txt\": 100\n",
    "     },\n",
    "     \"subdir2\": {\n",
    "         \"subsubdir1\": {\n",
    "             \"file5.txt\": 250\n",
    "         },\n",
    "         \"file6.txt\": 150\n",
    "     }\n",
    " }\n",
    "total_size = calculate_directory_size(directory_structure)\n",
    "print(f\"Total directory size: {total_size} KB\")"
   ]
  },
  {
   "cell_type": "code",
   "execution_count": 12,
   "id": "71b8ff56-4ae5-4b31-86e6-c4444c11bf2e",
   "metadata": {},
   "outputs": [],
   "source": [
    "def fibonacci(n, memo={}):\n",
    "     if n in memo:\n",
    "         return memo[n]\n",
    "     if n<=1:\n",
    "         return n\n",
    "     memo [n] =fibonacci (n-1, memo)+(n-2, memo)\n",
    "     return memo[n]"
   ]
  },
  {
   "cell_type": "code",
   "execution_count": 13,
   "id": "3eaef00b-6d29-412c-ba72-e5903561a986",
   "metadata": {},
   "outputs": [],
   "source": [
    " def fibonacci(n):\n",
    "     if n<=1:\n",
    "         return n\n",
    "         dp =[0]*(n+1)\n",
    "         dp[1]=1\n",
    "     for i in range (2,n+1):\n",
    "         dp[i]=dp[i-1]+dp[i-2]\n",
    "         return dp[n]"
   ]
  },
  {
   "cell_type": "code",
   "execution_count": 14,
   "id": "22b8c5d2-77b6-49f5-aab5-9f4324ea1c15",
   "metadata": {},
   "outputs": [],
   "source": [
    "def min_coins(coins, amount):\n",
    "    # Initialize a DP array with a large value (greater than the maximum possible number of coins)\n",
    "    dp = [float('inf')] * (amount + 1)\n",
    "    dp[0] = 0  # Base case: 0 coins needed to make amount 0\n",
    "\n",
    "    # Iterate through each amount from 1 to the target amount\n",
    "    for i in range(1, amount + 1):\n",
    "        # For each coin, check if it can contribute to the current amount\n",
    "        for coin in coins:\n",
    "            if i - coin >= 0:\n",
    "                dp[i] = min(dp[i], dp[i - coin] + 1)  # Update the minimum coins needed\n",
    "\n",
    "    # If dp[amount] is still infinity, it means the amount is not achievable\n",
    "    return dp[amount] if dp[amount] != float('inf') else -1\n"
   ]
  },
  {
   "cell_type": "code",
   "execution_count": 15,
   "id": "9fd60254-7e8d-42e4-b028-8a13f651a27d",
   "metadata": {},
   "outputs": [
    {
     "name": "stdout",
     "output_type": "stream",
     "text": [
      "Minimum number of coins needed: 3\n"
     ]
    }
   ],
   "source": [
    "coins = [1, 2, 5]\n",
    "amount = 11\n",
    "result = min_coins(coins, amount)\n",
    "print(f\"Minimum number of coins needed: {result}\")"
   ]
  },
  {
   "cell_type": "code",
   "execution_count": 16,
   "id": "d5c21851-5db9-4b38-be3b-f6bd9855a5bf",
   "metadata": {},
   "outputs": [],
   "source": [
    "def longest_common_subsequence(s1, s2):\n",
    "    # Create a 2D DP table with dimensions (len(s1)+1) x (len(s2)+1)\n",
    "    dp = [[0] * (len(s2) + 1) for _ in range(len(s1) + 1)]\n",
    "\n",
    "    # Fill the DP table\n",
    "    for i in range(1, len(s1) + 1):\n",
    "        for j in range(1, len(s2) + 1):\n",
    "            if s1[i - 1] == s2[j - 1]:\n",
    "                dp[i][j] = dp[i - 1][j - 1] + 1  # Characters match, extend the LCS\n",
    "            else:\n",
    "                dp[i][j] = max(dp[i - 1][j], dp[i][j - 1])  # Take the max of excluding one character\n",
    "\n",
    "    # The length of the LCS is stored at dp[len(s1)][len(s2)]\n",
    "    return dp[len(s1)][len(s2)]"
   ]
  },
  {
   "cell_type": "code",
   "execution_count": 17,
   "id": "0d31dc02-dc5c-4c3d-ac47-9ffe14f260f5",
   "metadata": {},
   "outputs": [
    {
     "name": "stdout",
     "output_type": "stream",
     "text": [
      "Length of LCS: 3\n"
     ]
    }
   ],
   "source": [
    "s1 = \"abcde\"\n",
    "s2 = \"ace\"\n",
    "result = longest_common_subsequence(s1, s2)\n",
    "print(f\"Length of LCS: {result}\")"
   ]
  },
  {
   "cell_type": "code",
   "execution_count": 18,
   "id": "8299563b-dd39-476b-b565-7cb20acb008e",
   "metadata": {},
   "outputs": [],
   "source": [
    "def knapsack(weights, values, capacity):\n",
    "    n = len(weights)  # Number of items\n",
    "    # Create a DP table with (n+1) rows and (capacity+1) columns\n",
    "    dp = [[0] * (capacity + 1) for _ in range(n + 1)]\n",
    "\n",
    "    # Fill the DP table\n",
    "    for i in range(1, n + 1):\n",
    "        for w in range(1, capacity + 1):\n",
    "            if weights[i - 1] <= w:\n",
    "                # If item can be included, take the maximum of including or excluding it\n",
    "                dp[i][w] = max(dp[i - 1][w], dp[i - 1][w - weights[i - 1]] + values[i - 1])\n",
    "            else:\n",
    "                # If item cannot be included, carry forward the previous value\n",
    "                dp[i][w] = dp[i - 1][w]\n",
    "\n",
    "    # The answer will be in dp[n][capacity]\n",
    "    return dp[n][capacity]"
   ]
  },
  {
   "cell_type": "code",
   "execution_count": 19,
   "id": "1cd8d086-c451-480f-941c-6377ab86ff78",
   "metadata": {},
   "outputs": [
    {
     "name": "stdout",
     "output_type": "stream",
     "text": [
      "Maximum value that can be carried: 9\n"
     ]
    }
   ],
   "source": [
    "weights = [1, 3, 4, 5]\n",
    "values = [1, 4, 5, 7]\n",
    "capacity = 7\n",
    "result = knapsack(weights, values, capacity)\n",
    "print(f\"Maximum value that can be carried: {result}\")"
   ]
  },
  {
   "cell_type": "code",
   "execution_count": null,
   "id": "79ddbcb6-14e7-4db1-8c05-ddb5572e24a4",
   "metadata": {},
   "outputs": [],
   "source": []
  }
 ],
 "metadata": {
  "kernelspec": {
   "display_name": "Python 3 (ipykernel)",
   "language": "python",
   "name": "python3"
  },
  "language_info": {
   "codemirror_mode": {
    "name": "ipython",
    "version": 3
   },
   "file_extension": ".py",
   "mimetype": "text/x-python",
   "name": "python",
   "nbconvert_exporter": "python",
   "pygments_lexer": "ipython3",
   "version": "3.12.5"
  }
 },
 "nbformat": 4,
 "nbformat_minor": 5
}
